{
 "cells": [
  {
   "cell_type": "markdown",
   "metadata": {
    "collapsed": true,
    "pycharm": {
     "name": "#%% md\n"
    }
   },
   "source": [
    "# Git Sintaks (Perintah) yang Sering Digunakan\n",
    "\n",
    "Pada sesi tutorial sebelumnya, telah diajarkan membuat folder git di lokal komputer, membuat repositori di github dan mengatur agar folder lokal dapat di sinkronkan dengan repo di <a href=\"github.com\">Github </a>\n",
    "\n",
    "1. Coba edit file README.md menggunakan editor apapun. Misal, saya menambahkan sebagai berikut :\n",
    "\n",
    "> Daftar Isi :\n",
    "\n",
    ">> 1. Pengantar Git Version dan Github\n",
    "\n",
    ">> 2. Git Sintaks (Perintah) yang Sering Digunakan\n",
    "\n",
    "2. Simpan perubahan file README.md\n",
    "\n",
    "## Simpan Revisi File ke Git (Lokal)\n",
    "\n",
    "1. Menandai <b>file-file mana</b> yang akan disimpan <b>versi perubahannya</b> . Ini sintaks yang sering digunakan\n",
    "\n",
    ">> git add <namafile>\n",
    "\n",
    ">> git add *<.py>  #semua berekstensi .py\n",
    "\n",
    ">> git add .  \t#semua file\n",
    "\n",
    "Contoh:\n",
    "> git add README.md\n",
    "\n",
    "Jika berhasil:\n",
    "\n",
    "warning: LF will be replaced by CRLF in README.md.\n",
    "The file will have its original line endings in your working directory.\n",
    "\n",
    "2. Lanjutkan dengan proses menyimpan ke Git (lokal) atau commit\n",
    "\n",
    "> git commit -m \"Penambahan Daftar Isi pada file README\"\n",
    "\n",
    "[master d7087d8] Penambahan Daftar Isi pada file README\n",
    " 1 file changed, 1 insertion(+)\n",
    "\n",
    "## Upload Revisi File ke Repo di <a href=\"github.com\">Github </a>\n",
    "\n",
    "Perintah secara umum seperti ini: <i> git push -u <namasingkat> <namacabang></i>\n",
    "\n",
    "1. Ketik perintah ini:\n",
    "\n",
    "> git push github\n",
    "\n",
    "Anda kemudian diminta untuk mengisi username dan password\n",
    "\n",
    "Catatan:\n",
    "\n",
    "< namasingkat> <b> github </b> digunakan saat kita akan melakukan proses upload ke folder repo yang telah didefinisikan alamatnya url sebelumnya.\n",
    "\n",
    "< namacabang> jika  akan diupload ke suatu cabang tertentu.\n",
    "\n",
    "2. Apabila Anda cek di Repo, ternyata belum ada perubahan di branch main. Tetapi terbentuk sebuah cabang baru dengan nama master. Apabila kita hanya bekerja sendiri, Anda boleh melakukan setting di github agar default ketika push langsung menuju branch aktif.\n",
    "\n",
    "Tetapi apabila anda bekerja dalam suatu tim, dimana ada modul2 cabang pekerjaan yang sedang dikerjakan orang lain, maka tidak mengapa terbentuk 2 cabang\n",
    "\n",
    "Ilustrasi berikut ini saya akan menjadikan cabang <b> master </b> sebagai repositori utama\n",
    "\n",
    "3. Buka Repo git-version di <a href=\"github.com\">Github </a>. Lakukan <b>setting</b>, dan pilih menu <b>branch</b>\n",
    "\n",
    "4. Ubah Default branch dari <b>main</b> menjadi <b>master</b> dengan menekan tombol switch.\n",
    "\n",
    "5. Nah sekarang secara automatis setiap Anda melakukan <b>push</b> halaman project di <a href=\"github.com\">Github </a> akan berubah."
   ]
  }
 ],
 "metadata": {
  "kernelspec": {
   "display_name": "Python 3",
   "language": "python",
   "name": "python3"
  },
  "language_info": {
   "codemirror_mode": {
    "name": "ipython",
    "version": 2
   },
   "file_extension": ".py",
   "mimetype": "text/x-python",
   "name": "python",
   "nbconvert_exporter": "python",
   "pygments_lexer": "ipython2",
   "version": "2.7.6"
  }
 },
 "nbformat": 4,
 "nbformat_minor": 0
}